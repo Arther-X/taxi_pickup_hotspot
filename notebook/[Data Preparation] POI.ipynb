{
 "cells": [
  {
   "cell_type": "code",
   "execution_count": 1,
   "metadata": {},
   "outputs": [],
   "source": [
    "import pandas as pd"
   ]
  },
  {
   "cell_type": "code",
   "execution_count": 2,
   "metadata": {},
   "outputs": [
    {
     "data": {
      "text/html": [
       "<div>\n",
       "<style scoped>\n",
       "    .dataframe tbody tr th:only-of-type {\n",
       "        vertical-align: middle;\n",
       "    }\n",
       "\n",
       "    .dataframe tbody tr th {\n",
       "        vertical-align: top;\n",
       "    }\n",
       "\n",
       "    .dataframe thead th {\n",
       "        text-align: right;\n",
       "    }\n",
       "</style>\n",
       "<table border=\"1\" class=\"dataframe\">\n",
       "  <thead>\n",
       "    <tr style=\"text-align: right;\">\n",
       "      <th></th>\n",
       "      <th>1</th>\n",
       "      <th>2</th>\n",
       "      <th>3</th>\n",
       "      <th>4</th>\n",
       "      <th>5</th>\n",
       "      <th>6</th>\n",
       "      <th>7</th>\n",
       "    </tr>\n",
       "  </thead>\n",
       "  <tbody>\n",
       "    <tr>\n",
       "      <th>0</th>\n",
       "      <td>阿彪美食馆</td>\n",
       "      <td>嘉禾路104号香江花园113号</td>\n",
       "      <td>24.486259</td>\n",
       "      <td>118.118932</td>\n",
       "      <td>厦门市;思明区</td>\n",
       "      <td>美食;小吃快餐</td>\n",
       "      <td>0592-5558259</td>\n",
       "    </tr>\n",
       "    <tr>\n",
       "      <th>1</th>\n",
       "      <td>SM城市广场</td>\n",
       "      <td>嘉禾路468号</td>\n",
       "      <td>24.503625</td>\n",
       "      <td>118.121906</td>\n",
       "      <td>厦门市;湖里区</td>\n",
       "      <td>购物;综合商场</td>\n",
       "      <td>0592-5517933</td>\n",
       "    </tr>\n",
       "  </tbody>\n",
       "</table>\n",
       "</div>"
      ],
      "text/plain": [
       "        1                2          3           4        5        6  \\\n",
       "0   阿彪美食馆  嘉禾路104号香江花园113号  24.486259  118.118932  厦门市;思明区  美食;小吃快餐   \n",
       "1  SM城市广场          嘉禾路468号  24.503625  118.121906  厦门市;湖里区  购物;综合商场   \n",
       "\n",
       "              7  \n",
       "0  0592-5558259  \n",
       "1  0592-5517933  "
      ]
     },
     "execution_count": 2,
     "metadata": {},
     "output_type": "execute_result"
    }
   ],
   "source": [
    "df_poi = pd.read_csv('data/poi/poi.csv', header=None, encoding='utf_8_sig').drop(0, axis=1)\n",
    "df_poi.head(2)"
   ]
  },
  {
   "cell_type": "code",
   "execution_count": 3,
   "metadata": {},
   "outputs": [
    {
     "data": {
      "text/html": [
       "<div>\n",
       "<style scoped>\n",
       "    .dataframe tbody tr th:only-of-type {\n",
       "        vertical-align: middle;\n",
       "    }\n",
       "\n",
       "    .dataframe tbody tr th {\n",
       "        vertical-align: top;\n",
       "    }\n",
       "\n",
       "    .dataframe thead th {\n",
       "        text-align: right;\n",
       "    }\n",
       "</style>\n",
       "<table border=\"1\" class=\"dataframe\">\n",
       "  <thead>\n",
       "    <tr style=\"text-align: right;\">\n",
       "      <th></th>\n",
       "      <th>1</th>\n",
       "      <th>2</th>\n",
       "      <th>3</th>\n",
       "      <th>4</th>\n",
       "      <th>7</th>\n",
       "      <th>Type</th>\n",
       "      <th>Subtype</th>\n",
       "      <th>District</th>\n",
       "    </tr>\n",
       "  </thead>\n",
       "  <tbody>\n",
       "    <tr>\n",
       "      <th>0</th>\n",
       "      <td>阿彪美食馆</td>\n",
       "      <td>嘉禾路104号香江花园113号</td>\n",
       "      <td>24.486259</td>\n",
       "      <td>118.118932</td>\n",
       "      <td>0592-5558259</td>\n",
       "      <td>美食</td>\n",
       "      <td>小吃快餐</td>\n",
       "      <td>思明区</td>\n",
       "    </tr>\n",
       "    <tr>\n",
       "      <th>1</th>\n",
       "      <td>SM城市广场</td>\n",
       "      <td>嘉禾路468号</td>\n",
       "      <td>24.503625</td>\n",
       "      <td>118.121906</td>\n",
       "      <td>0592-5517933</td>\n",
       "      <td>购物</td>\n",
       "      <td>综合商场</td>\n",
       "      <td>湖里区</td>\n",
       "    </tr>\n",
       "  </tbody>\n",
       "</table>\n",
       "</div>"
      ],
      "text/plain": [
       "        1                2          3           4             7 Type Subtype  \\\n",
       "0   阿彪美食馆  嘉禾路104号香江花园113号  24.486259  118.118932  0592-5558259   美食    小吃快餐   \n",
       "1  SM城市广场          嘉禾路468号  24.503625  118.121906  0592-5517933   购物    综合商场   \n",
       "\n",
       "  District  \n",
       "0      思明区  \n",
       "1      湖里区  "
      ]
     },
     "execution_count": 3,
     "metadata": {},
     "output_type": "execute_result"
    }
   ],
   "source": [
    "df_poi[['Type','Subtype']] = df_poi[6].str.split(';', expand=True)\n",
    "df_poi[['City','District']] = df_poi[5].str.split(';', expand=True)\n",
    "df_poi.drop([5,6, 'City'], axis=1, inplace=True)\n",
    "df_poi.head(2)"
   ]
  },
  {
   "cell_type": "code",
   "execution_count": 4,
   "metadata": {},
   "outputs": [
    {
     "data": {
      "text/html": [
       "<div>\n",
       "<style scoped>\n",
       "    .dataframe tbody tr th:only-of-type {\n",
       "        vertical-align: middle;\n",
       "    }\n",
       "\n",
       "    .dataframe tbody tr th {\n",
       "        vertical-align: top;\n",
       "    }\n",
       "\n",
       "    .dataframe thead th {\n",
       "        text-align: right;\n",
       "    }\n",
       "</style>\n",
       "<table border=\"1\" class=\"dataframe\">\n",
       "  <thead>\n",
       "    <tr style=\"text-align: right;\">\n",
       "      <th></th>\n",
       "      <th>Name</th>\n",
       "      <th>Address</th>\n",
       "      <th>Latitude</th>\n",
       "      <th>Longitude</th>\n",
       "      <th>Phone</th>\n",
       "      <th>Type</th>\n",
       "      <th>Subtype</th>\n",
       "      <th>District</th>\n",
       "    </tr>\n",
       "  </thead>\n",
       "  <tbody>\n",
       "    <tr>\n",
       "      <th>0</th>\n",
       "      <td>阿彪美食馆</td>\n",
       "      <td>嘉禾路104号香江花园113号</td>\n",
       "      <td>24.486259</td>\n",
       "      <td>118.118932</td>\n",
       "      <td>0592-5558259</td>\n",
       "      <td>美食</td>\n",
       "      <td>小吃快餐</td>\n",
       "      <td>思明区</td>\n",
       "    </tr>\n",
       "    <tr>\n",
       "      <th>1</th>\n",
       "      <td>SM城市广场</td>\n",
       "      <td>嘉禾路468号</td>\n",
       "      <td>24.503625</td>\n",
       "      <td>118.121906</td>\n",
       "      <td>0592-5517933</td>\n",
       "      <td>购物</td>\n",
       "      <td>综合商场</td>\n",
       "      <td>湖里区</td>\n",
       "    </tr>\n",
       "    <tr>\n",
       "      <th>2</th>\n",
       "      <td>SM新生活广场</td>\n",
       "      <td>嘉禾路399</td>\n",
       "      <td>24.502303</td>\n",
       "      <td>118.120023</td>\n",
       "      <td>0592-5589720</td>\n",
       "      <td>购物</td>\n",
       "      <td>综合商场</td>\n",
       "      <td>思明区</td>\n",
       "    </tr>\n",
       "    <tr>\n",
       "      <th>3</th>\n",
       "      <td>沃尔玛购物广场(SM城市广场店)</td>\n",
       "      <td>嘉禾路468号SM城市广场B1层</td>\n",
       "      <td>24.503655</td>\n",
       "      <td>118.122076</td>\n",
       "      <td>0592-5511682; 0592-5569503</td>\n",
       "      <td>购物</td>\n",
       "      <td>超市</td>\n",
       "      <td>湖里区</td>\n",
       "    </tr>\n",
       "    <tr>\n",
       "      <th>4</th>\n",
       "      <td>麦当劳(SM城市广场店)</td>\n",
       "      <td>嘉禾路468号SM城市广场F1</td>\n",
       "      <td>24.502856</td>\n",
       "      <td>118.122437</td>\n",
       "      <td>0592-5553189</td>\n",
       "      <td>美食</td>\n",
       "      <td>小吃快餐</td>\n",
       "      <td>湖里区</td>\n",
       "    </tr>\n",
       "  </tbody>\n",
       "</table>\n",
       "</div>"
      ],
      "text/plain": [
       "               Name           Address   Latitude   Longitude  \\\n",
       "0             阿彪美食馆   嘉禾路104号香江花园113号  24.486259  118.118932   \n",
       "1            SM城市广场           嘉禾路468号  24.503625  118.121906   \n",
       "2           SM新生活广场            嘉禾路399  24.502303  118.120023   \n",
       "3  沃尔玛购物广场(SM城市广场店)  嘉禾路468号SM城市广场B1层  24.503655  118.122076   \n",
       "4      麦当劳(SM城市广场店)   嘉禾路468号SM城市广场F1  24.502856  118.122437   \n",
       "\n",
       "                        Phone Type Subtype District  \n",
       "0                0592-5558259   美食    小吃快餐      思明区  \n",
       "1                0592-5517933   购物    综合商场      湖里区  \n",
       "2                0592-5589720   购物    综合商场      思明区  \n",
       "3  0592-5511682; 0592-5569503   购物      超市      湖里区  \n",
       "4                0592-5553189   美食    小吃快餐      湖里区  "
      ]
     },
     "execution_count": 4,
     "metadata": {},
     "output_type": "execute_result"
    }
   ],
   "source": [
    "df_poi.columns = ['Name', 'Address', 'Latitude', 'Longitude', 'Phone', 'Type', 'Subtype', 'District']\n",
    "df_poi.head()"
   ]
  },
  {
   "cell_type": "code",
   "execution_count": null,
   "metadata": {},
   "outputs": [],
   "source": []
  },
  {
   "cell_type": "code",
   "execution_count": 8,
   "metadata": {},
   "outputs": [],
   "source": [
    "import geopandas as gpd\n",
    "\n",
    "gdf = gpd.GeoDataFrame(\n",
    "    df_poi, geometry=gpd.points_from_xy(df_poi['Latitude'],df_poi['Longitude'])\n",
    ")\n",
    "\n",
    "import geopandas as gpd\n",
    "from shapely.geometry import Point\n",
    "\n",
    "df_geometry = [Point(xy) for xy in zip(df_poi.Longitude, df_poi.Latitude)]\n",
    "gdf = gpd.GeoDataFrame(df_poi, geometry=df_geometry)\n"
   ]
  },
  {
   "cell_type": "code",
   "execution_count": 9,
   "metadata": {},
   "outputs": [],
   "source": [
    "import pandas as pd\n",
    "import datetime\n",
    "import numpy as np\n",
    "import pytz   \n",
    "import math\n",
    "import geopandas as gpd\n",
    "from shapely.geometry import Point,Polygon\n",
    "from fiona.crs import from_epsg"
   ]
  },
  {
   "cell_type": "code",
   "execution_count": 10,
   "metadata": {},
   "outputs": [
    {
     "name": "stderr",
     "output_type": "stream",
     "text": [
      "/Users/arthur/opt/anaconda3/lib/python3.7/site-packages/pyproj/crs/crs.py:53: FutureWarning: '+init=<authority>:<code>' syntax is deprecated. '<authority>:<code>' is the preferred initialization method. When making the change, be mindful of axis order changes: https://pyproj4.github.io/pyproj/stable/gotchas.html#axis-order-changes-in-proj-6\n",
      "  return _prepare_from_string(\" \".join(pjargs))\n",
      "/Users/arthur/opt/anaconda3/lib/python3.7/site-packages/geopandas/tools/sjoin.py:61: UserWarning: CRS of frames being joined does not match!(None != +init=epsg:4326 +type=crs)\n",
      "  \"(%s != %s)\" % (left_df.crs, right_df.crs)\n"
     ]
    },
    {
     "data": {
      "text/html": [
       "<div>\n",
       "<style scoped>\n",
       "    .dataframe tbody tr th:only-of-type {\n",
       "        vertical-align: middle;\n",
       "    }\n",
       "\n",
       "    .dataframe tbody tr th {\n",
       "        vertical-align: top;\n",
       "    }\n",
       "\n",
       "    .dataframe thead th {\n",
       "        text-align: right;\n",
       "    }\n",
       "</style>\n",
       "<table border=\"1\" class=\"dataframe\">\n",
       "  <thead>\n",
       "    <tr style=\"text-align: right;\">\n",
       "      <th></th>\n",
       "      <th>Name</th>\n",
       "      <th>Address</th>\n",
       "      <th>Latitude</th>\n",
       "      <th>Longitude</th>\n",
       "      <th>Phone</th>\n",
       "      <th>Type</th>\n",
       "      <th>Subtype</th>\n",
       "      <th>District</th>\n",
       "      <th>geometry</th>\n",
       "      <th>index_right</th>\n",
       "      <th>index</th>\n",
       "    </tr>\n",
       "  </thead>\n",
       "  <tbody>\n",
       "    <tr>\n",
       "      <th>0</th>\n",
       "      <td>阿彪美食馆</td>\n",
       "      <td>嘉禾路104号香江花园113号</td>\n",
       "      <td>24.486259</td>\n",
       "      <td>118.118932</td>\n",
       "      <td>0592-5558259</td>\n",
       "      <td>美食</td>\n",
       "      <td>小吃快餐</td>\n",
       "      <td>思明区</td>\n",
       "      <td>POINT (118.11893 24.48626)</td>\n",
       "      <td>141.0</td>\n",
       "      <td>141.0</td>\n",
       "    </tr>\n",
       "    <tr>\n",
       "      <th>1</th>\n",
       "      <td>SM城市广场</td>\n",
       "      <td>嘉禾路468号</td>\n",
       "      <td>24.503625</td>\n",
       "      <td>118.121906</td>\n",
       "      <td>0592-5517933</td>\n",
       "      <td>购物</td>\n",
       "      <td>综合商场</td>\n",
       "      <td>湖里区</td>\n",
       "      <td>POINT (118.12191 24.50363)</td>\n",
       "      <td>141.0</td>\n",
       "      <td>141.0</td>\n",
       "    </tr>\n",
       "    <tr>\n",
       "      <th>2</th>\n",
       "      <td>SM新生活广场</td>\n",
       "      <td>嘉禾路399</td>\n",
       "      <td>24.502303</td>\n",
       "      <td>118.120023</td>\n",
       "      <td>0592-5589720</td>\n",
       "      <td>购物</td>\n",
       "      <td>综合商场</td>\n",
       "      <td>思明区</td>\n",
       "      <td>POINT (118.12002 24.50230)</td>\n",
       "      <td>141.0</td>\n",
       "      <td>141.0</td>\n",
       "    </tr>\n",
       "    <tr>\n",
       "      <th>3</th>\n",
       "      <td>沃尔玛购物广场(SM城市广场店)</td>\n",
       "      <td>嘉禾路468号SM城市广场B1层</td>\n",
       "      <td>24.503655</td>\n",
       "      <td>118.122076</td>\n",
       "      <td>0592-5511682; 0592-5569503</td>\n",
       "      <td>购物</td>\n",
       "      <td>超市</td>\n",
       "      <td>湖里区</td>\n",
       "      <td>POINT (118.12208 24.50366)</td>\n",
       "      <td>141.0</td>\n",
       "      <td>141.0</td>\n",
       "    </tr>\n",
       "    <tr>\n",
       "      <th>4</th>\n",
       "      <td>麦当劳(SM城市广场店)</td>\n",
       "      <td>嘉禾路468号SM城市广场F1</td>\n",
       "      <td>24.502856</td>\n",
       "      <td>118.122437</td>\n",
       "      <td>0592-5553189</td>\n",
       "      <td>美食</td>\n",
       "      <td>小吃快餐</td>\n",
       "      <td>湖里区</td>\n",
       "      <td>POINT (118.12244 24.50286)</td>\n",
       "      <td>141.0</td>\n",
       "      <td>141.0</td>\n",
       "    </tr>\n",
       "  </tbody>\n",
       "</table>\n",
       "</div>"
      ],
      "text/plain": [
       "               Name           Address   Latitude   Longitude  \\\n",
       "0             阿彪美食馆   嘉禾路104号香江花园113号  24.486259  118.118932   \n",
       "1            SM城市广场           嘉禾路468号  24.503625  118.121906   \n",
       "2           SM新生活广场            嘉禾路399  24.502303  118.120023   \n",
       "3  沃尔玛购物广场(SM城市广场店)  嘉禾路468号SM城市广场B1层  24.503655  118.122076   \n",
       "4      麦当劳(SM城市广场店)   嘉禾路468号SM城市广场F1  24.502856  118.122437   \n",
       "\n",
       "                        Phone Type Subtype District  \\\n",
       "0                0592-5558259   美食    小吃快餐      思明区   \n",
       "1                0592-5517933   购物    综合商场      湖里区   \n",
       "2                0592-5589720   购物    综合商场      思明区   \n",
       "3  0592-5511682; 0592-5569503   购物      超市      湖里区   \n",
       "4                0592-5553189   美食    小吃快餐      湖里区   \n",
       "\n",
       "                     geometry  index_right  index  \n",
       "0  POINT (118.11893 24.48626)        141.0  141.0  \n",
       "1  POINT (118.12191 24.50363)        141.0  141.0  \n",
       "2  POINT (118.12002 24.50230)        141.0  141.0  \n",
       "3  POINT (118.12208 24.50366)        141.0  141.0  \n",
       "4  POINT (118.12244 24.50286)        141.0  141.0  "
      ]
     },
     "execution_count": 10,
     "metadata": {},
     "output_type": "execute_result"
    }
   ],
   "source": [
    "lat_range = [24.2106, 25.0881]\n",
    "long_range = [117.3944, 118.8913]\n",
    "\n",
    "y = np.linspace(lat_range[0],lat_range[1],18)\n",
    "x = np.linspace(long_range[0],long_range[1],18)\n",
    "\n",
    "grid = []\n",
    "for m,i in enumerate(x[:17]):\n",
    "    for k,j in enumerate(y[:17]):\n",
    "        cord = np.array([i,j,x[m+1],j,x[m+1],y[k+1],i,y[k+1]]).reshape(4,2)\n",
    "        grid.append(Polygon(cord))\n",
    "\n",
    "\n",
    "area = gpd.GeoDataFrame(grid)\n",
    "area = area.reset_index()\n",
    "area.columns=['index','geometry']\n",
    "area.crs={'init':'epsg:4326'}\n",
    "\n",
    "\n",
    "t_gdf = gpd.sjoin(gdf, area, op='within', how='left')\n",
    "t_gdf.head()\n"
   ]
  },
  {
   "cell_type": "code",
   "execution_count": 28,
   "metadata": {},
   "outputs": [
    {
     "data": {
      "text/plain": [
       "Type\n",
       "交通运输       79\n",
       "休闲娱乐    10524\n",
       "公司企业    59006\n",
       "其它         19\n",
       "医疗保健     6489\n",
       "地名地址     2156\n",
       "基础设施    25408\n",
       "建筑房产    48733\n",
       "教育学校     9478\n",
       "文化场馆     2550\n",
       "旅游服务     1059\n",
       "机构团体     6478\n",
       "汽车      14652\n",
       "生活服务    32422\n",
       "美食      54475\n",
       "购物      86767\n",
       "运动健身     2788\n",
       "酒店宾馆     9882\n",
       "银行金融     7671\n",
       "Name: index, dtype: int64"
      ]
     },
     "execution_count": 28,
     "metadata": {},
     "output_type": "execute_result"
    }
   ],
   "source": [
    "t_gdf.groupby(['Type'])['index'].count()"
   ]
  },
  {
   "cell_type": "code",
   "execution_count": 49,
   "metadata": {},
   "outputs": [],
   "source": [
    "poi_types = ['休闲娱乐', '基础设施', '文化场馆', '美食', '购物', '酒店宾馆']\n",
    "t_df = t_gdf.loc[t_gdf['Type'].isin(poi_types)]"
   ]
  },
  {
   "cell_type": "code",
   "execution_count": 62,
   "metadata": {},
   "outputs": [],
   "source": [
    "stat = area.loc[:,['index']]\n",
    "stat = pd.merge(stat, t_df.groupby('index')['Type'].count().to_frame().reset_index(),\n",
    "               on='index', how='outer')\n",
    "stat.columns = ['index', 'count']\n",
    "stat.fillna(0,inplace=True) "
   ]
  },
  {
   "cell_type": "code",
   "execution_count": 63,
   "metadata": {},
   "outputs": [
    {
     "data": {
      "text/html": [
       "<div>\n",
       "<style scoped>\n",
       "    .dataframe tbody tr th:only-of-type {\n",
       "        vertical-align: middle;\n",
       "    }\n",
       "\n",
       "    .dataframe tbody tr th {\n",
       "        vertical-align: top;\n",
       "    }\n",
       "\n",
       "    .dataframe thead th {\n",
       "        text-align: right;\n",
       "    }\n",
       "</style>\n",
       "<table border=\"1\" class=\"dataframe\">\n",
       "  <thead>\n",
       "    <tr style=\"text-align: right;\">\n",
       "      <th></th>\n",
       "      <th>index</th>\n",
       "      <th>count</th>\n",
       "    </tr>\n",
       "  </thead>\n",
       "  <tbody>\n",
       "    <tr>\n",
       "      <th>0</th>\n",
       "      <td>0</td>\n",
       "      <td>0.0</td>\n",
       "    </tr>\n",
       "    <tr>\n",
       "      <th>1</th>\n",
       "      <td>1</td>\n",
       "      <td>0.0</td>\n",
       "    </tr>\n",
       "    <tr>\n",
       "      <th>2</th>\n",
       "      <td>2</td>\n",
       "      <td>0.0</td>\n",
       "    </tr>\n",
       "    <tr>\n",
       "      <th>3</th>\n",
       "      <td>3</td>\n",
       "      <td>0.0</td>\n",
       "    </tr>\n",
       "    <tr>\n",
       "      <th>4</th>\n",
       "      <td>4</td>\n",
       "      <td>0.0</td>\n",
       "    </tr>\n",
       "  </tbody>\n",
       "</table>\n",
       "</div>"
      ],
      "text/plain": [
       "   index  count\n",
       "0      0    0.0\n",
       "1      1    0.0\n",
       "2      2    0.0\n",
       "3      3    0.0\n",
       "4      4    0.0"
      ]
     },
     "execution_count": 63,
     "metadata": {},
     "output_type": "execute_result"
    }
   ],
   "source": [
    "stat.head()"
   ]
  },
  {
   "cell_type": "code",
   "execution_count": 64,
   "metadata": {},
   "outputs": [
    {
     "data": {
      "text/html": [
       "<div>\n",
       "<style scoped>\n",
       "    .dataframe tbody tr th:only-of-type {\n",
       "        vertical-align: middle;\n",
       "    }\n",
       "\n",
       "    .dataframe tbody tr th {\n",
       "        vertical-align: top;\n",
       "    }\n",
       "\n",
       "    .dataframe thead th {\n",
       "        text-align: right;\n",
       "    }\n",
       "</style>\n",
       "<table border=\"1\" class=\"dataframe\">\n",
       "  <thead>\n",
       "    <tr style=\"text-align: right;\">\n",
       "      <th></th>\n",
       "      <th>index</th>\n",
       "      <th>count</th>\n",
       "      <th>休闲娱乐</th>\n",
       "      <th>基础设施</th>\n",
       "      <th>文化场馆</th>\n",
       "      <th>美食</th>\n",
       "      <th>购物</th>\n",
       "      <th>酒店宾馆</th>\n",
       "    </tr>\n",
       "  </thead>\n",
       "  <tbody>\n",
       "    <tr>\n",
       "      <th>0</th>\n",
       "      <td>0</td>\n",
       "      <td>0.0</td>\n",
       "      <td>0.0</td>\n",
       "      <td>0.0</td>\n",
       "      <td>0.0</td>\n",
       "      <td>0.0</td>\n",
       "      <td>0.0</td>\n",
       "      <td>0.0</td>\n",
       "    </tr>\n",
       "    <tr>\n",
       "      <th>1</th>\n",
       "      <td>1</td>\n",
       "      <td>0.0</td>\n",
       "      <td>0.0</td>\n",
       "      <td>0.0</td>\n",
       "      <td>0.0</td>\n",
       "      <td>0.0</td>\n",
       "      <td>0.0</td>\n",
       "      <td>0.0</td>\n",
       "    </tr>\n",
       "    <tr>\n",
       "      <th>2</th>\n",
       "      <td>2</td>\n",
       "      <td>0.0</td>\n",
       "      <td>0.0</td>\n",
       "      <td>0.0</td>\n",
       "      <td>0.0</td>\n",
       "      <td>0.0</td>\n",
       "      <td>0.0</td>\n",
       "      <td>0.0</td>\n",
       "    </tr>\n",
       "    <tr>\n",
       "      <th>3</th>\n",
       "      <td>3</td>\n",
       "      <td>0.0</td>\n",
       "      <td>0.0</td>\n",
       "      <td>0.0</td>\n",
       "      <td>0.0</td>\n",
       "      <td>0.0</td>\n",
       "      <td>0.0</td>\n",
       "      <td>0.0</td>\n",
       "    </tr>\n",
       "    <tr>\n",
       "      <th>4</th>\n",
       "      <td>4</td>\n",
       "      <td>0.0</td>\n",
       "      <td>0.0</td>\n",
       "      <td>0.0</td>\n",
       "      <td>0.0</td>\n",
       "      <td>0.0</td>\n",
       "      <td>0.0</td>\n",
       "      <td>0.0</td>\n",
       "    </tr>\n",
       "  </tbody>\n",
       "</table>\n",
       "</div>"
      ],
      "text/plain": [
       "   index  count  休闲娱乐  基础设施  文化场馆   美食   购物  酒店宾馆\n",
       "0      0    0.0   0.0   0.0   0.0  0.0  0.0   0.0\n",
       "1      1    0.0   0.0   0.0   0.0  0.0  0.0   0.0\n",
       "2      2    0.0   0.0   0.0   0.0  0.0  0.0   0.0\n",
       "3      3    0.0   0.0   0.0   0.0  0.0  0.0   0.0\n",
       "4      4    0.0   0.0   0.0   0.0  0.0  0.0   0.0"
      ]
     },
     "execution_count": 64,
     "metadata": {},
     "output_type": "execute_result"
    }
   ],
   "source": [
    "for condition in poi_types:\n",
    "    stat = pd.merge(stat, t_df[t_df['Type']==condition].groupby('index')['Type'].count().to_frame().reset_index(),\n",
    "               on='index', how='outer')\n",
    "stat.columns = ['index', 'count'] + poi_types\n",
    "stat.fillna(0,inplace=True) \n",
    "stat.head()"
   ]
  },
  {
   "cell_type": "code",
   "execution_count": 65,
   "metadata": {},
   "outputs": [
    {
     "data": {
      "text/plain": [
       "[5953.0,\n",
       " 6369.0,\n",
       " 8709.0,\n",
       " 8916.0,\n",
       " 10141.0,\n",
       " 11653.0,\n",
       " 12278.0,\n",
       " 17280.0,\n",
       " 20745.0,\n",
       " 57908.0]"
      ]
     },
     "execution_count": 65,
     "metadata": {},
     "output_type": "execute_result"
    }
   ],
   "source": [
    "sorted(stat['count'].unique())[-10:]"
   ]
  },
  {
   "cell_type": "code",
   "execution_count": 67,
   "metadata": {},
   "outputs": [],
   "source": [
    "stat.to_csv('data/poi/requ.csv',index=False)"
   ]
  },
  {
   "cell_type": "code",
   "execution_count": null,
   "metadata": {},
   "outputs": [],
   "source": []
  },
  {
   "cell_type": "code",
   "execution_count": 47,
   "metadata": {},
   "outputs": [
    {
     "data": {
      "text/plain": [
       "Index(['index', 'geometry'], dtype='object')"
      ]
     },
     "execution_count": 47,
     "metadata": {},
     "output_type": "execute_result"
    }
   ],
   "source": [
    "area.columns"
   ]
  },
  {
   "cell_type": "code",
   "execution_count": 48,
   "metadata": {},
   "outputs": [
    {
     "data": {
      "text/html": [
       "<div>\n",
       "<style scoped>\n",
       "    .dataframe tbody tr th:only-of-type {\n",
       "        vertical-align: middle;\n",
       "    }\n",
       "\n",
       "    .dataframe tbody tr th {\n",
       "        vertical-align: top;\n",
       "    }\n",
       "\n",
       "    .dataframe thead th {\n",
       "        text-align: right;\n",
       "    }\n",
       "</style>\n",
       "<table border=\"1\" class=\"dataframe\">\n",
       "  <thead>\n",
       "    <tr style=\"text-align: right;\">\n",
       "      <th></th>\n",
       "      <th>index</th>\n",
       "      <th>geometry</th>\n",
       "    </tr>\n",
       "  </thead>\n",
       "  <tbody>\n",
       "    <tr>\n",
       "      <th>141</th>\n",
       "      <td>141</td>\n",
       "      <td>POLYGON ((118.09882 24.46869, 118.18688 24.468...</td>\n",
       "    </tr>\n",
       "  </tbody>\n",
       "</table>\n",
       "</div>"
      ],
      "text/plain": [
       "     index                                           geometry\n",
       "141    141  POLYGON ((118.09882 24.46869, 118.18688 24.468..."
      ]
     },
     "execution_count": 48,
     "metadata": {},
     "output_type": "execute_result"
    }
   ],
   "source": [
    "grid_id = stat[stat['count'] == 116864.0]['index'].values[0]\n",
    "area[area['index'] == grid_id]"
   ]
  },
  {
   "cell_type": "code",
   "execution_count": null,
   "metadata": {},
   "outputs": [],
   "source": []
  },
  {
   "cell_type": "code",
   "execution_count": null,
   "metadata": {},
   "outputs": [],
   "source": []
  },
  {
   "cell_type": "code",
   "execution_count": null,
   "metadata": {},
   "outputs": [],
   "source": []
  },
  {
   "cell_type": "code",
   "execution_count": null,
   "metadata": {},
   "outputs": [],
   "source": []
  },
  {
   "cell_type": "code",
   "execution_count": 108,
   "metadata": {},
   "outputs": [],
   "source": [
    "l_l_long_lat = df_poi[['Longitude', 'Latitude']].to_numpy().tolist()"
   ]
  },
  {
   "cell_type": "code",
   "execution_count": null,
   "metadata": {},
   "outputs": [],
   "source": [
    "import numpy as np\n",
    "from sklearn.cluster import Birch\n",
    "\n",
    "\n",
    "brc = Birch(branching_factor=50, n_clusters=None, threshold=0.0001)\n",
    "brc.fit(l_l_long_lat)\n",
    "labels = brc.predict(l_l_long_lat)\n",
    "df_poi['cluster'] = labels\n",
    "len(df_poi['cluster'].unique())"
   ]
  },
  {
   "cell_type": "code",
   "execution_count": null,
   "metadata": {},
   "outputs": [],
   "source": []
  },
  {
   "cell_type": "code",
   "execution_count": null,
   "metadata": {},
   "outputs": [],
   "source": []
  },
  {
   "cell_type": "code",
   "execution_count": 72,
   "metadata": {},
   "outputs": [],
   "source": [
    "# pip install weibo\n",
    "from weibo import Client\n",
    "from weibopy import WeiboClient"
   ]
  },
  {
   "cell_type": "code",
   "execution_count": 83,
   "metadata": {},
   "outputs": [],
   "source": [
    "API_KEY=494609143\n",
    "API_SECRET=\"a2c5a854908953a9af53c4ef95c2829a\"\n",
    "REDIRECT_URI=\"http://127.0.0.1/callback\"\n",
    "TOKEN = {'access_token': '2.00QSUfKI0p71TX112616462e0RY8Hd',\n",
    "            'remind_in': '157679999',\n",
    "            'uid': '7486713916',\n",
    "            'isRealName': 'true',\n",
    "            'expires_at': 1753993559}\n",
    "\n"
   ]
  },
  {
   "cell_type": "code",
   "execution_count": 80,
   "metadata": {},
   "outputs": [
    {
     "data": {
      "text/plain": [
       "'https://api.weibo.com/oauth2/authorize?client_id=494609143&redirect_uri=http%3A%2F%2F127.0.0.1%2Fcallback'"
      ]
     },
     "execution_count": 80,
     "metadata": {},
     "output_type": "execute_result"
    }
   ],
   "source": [
    "c = Client(API_KEY, API_SECRET, REDIRECT_URI)\n",
    "c.authorize_url"
   ]
  },
  {
   "cell_type": "code",
   "execution_count": 81,
   "metadata": {},
   "outputs": [],
   "source": [
    "c.set_code('f06f0546307f3fadf1c4f88ea08bbac5')"
   ]
  },
  {
   "cell_type": "code",
   "execution_count": 82,
   "metadata": {},
   "outputs": [
    {
     "data": {
      "text/plain": [
       "{'access_token': '2.00QSUfKI0p71TX112616462e0RY8Hd',\n",
       " 'remind_in': '157679999',\n",
       " 'uid': '7486713916',\n",
       " 'isRealName': 'true',\n",
       " 'expires_at': 1753993559}"
      ]
     },
     "execution_count": 82,
     "metadata": {},
     "output_type": "execute_result"
    }
   ],
   "source": [
    "t = c.token\n",
    "t"
   ]
  },
  {
   "cell_type": "code",
   "execution_count": 100,
   "metadata": {},
   "outputs": [],
   "source": [
    "c = Client(API_KEY, API_SECRET, REDIRECT_URI, TOKEN)"
   ]
  },
  {
   "cell_type": "code",
   "execution_count": 101,
   "metadata": {},
   "outputs": [],
   "source": [
    "API_POI_TIMELINE = 'place/poi_timeline'\n",
    "API_POI_ID = 'place/pois/show'\n",
    "API_POI_NEARBY = 'place/nearby/pois/biz'"
   ]
  },
  {
   "cell_type": "code",
   "execution_count": 102,
   "metadata": {},
   "outputs": [],
   "source": [
    "lat_long = [24.503625, 118.121906]"
   ]
  },
  {
   "cell_type": "code",
   "execution_count": 103,
   "metadata": {},
   "outputs": [
    {
     "name": "stdout",
     "output_type": "stream",
     "text": [
      "https://api.weibo.com/2/place/nearby/pois/biz.json\n",
      "<!DOCTYPE HTML PUBLIC \"-//IETF//DTD HTML 2.0//EN\">\n",
      "<html>\n",
      "<head><title>404 Not Found</title></head>\n",
      "<body bgcolor=\"white\">\n",
      "<h1>404 Not Found</h1>\n",
      "<p>The requested URL was not found on this server. Sorry for the inconvenience.<br/>\n",
      "Please report this message and include the following information to us.<br/>\n",
      "Thank you very much!</p>\n",
      "<table>\n",
      "<tr>\n",
      "<td>URL:</td>\n",
      "<td>http://i.api.place.weibo.cn/place/nearby/pois/biz.json?access_token=2.00QSUfKI0p71TX112616462e0RY8Hd&amp;lat=24.503625&amp;long=118.121906</td>\n",
      "</tr>\n",
      "<tr>\n",
      "<td>Server:</td>\n",
      "<td>lbs-172-16-190-55.dbl.intra.weibo.cn</td>\n",
      "</tr>\n",
      "<tr>\n",
      "<td>Date:</td>\n",
      "<td>2020/08/02 04:32:52</td>\n",
      "</tr>\n",
      "</table>\n",
      "<hr/>Powered by Tengine</body>\n",
      "</html>\n",
      "\n"
     ]
    },
    {
     "ename": "JSONDecodeError",
     "evalue": "Expecting value: line 1 column 1 (char 0)",
     "output_type": "error",
     "traceback": [
      "\u001b[0;31m---------------------------------------------------------------------------\u001b[0m",
      "\u001b[0;31mJSONDecodeError\u001b[0m                           Traceback (most recent call last)",
      "\u001b[0;32m<ipython-input-103-a70ed45daa66>\u001b[0m in \u001b[0;36m<module>\u001b[0;34m\u001b[0m\n\u001b[0;32m----> 1\u001b[0;31m \u001b[0mpoi_nb\u001b[0m \u001b[0;34m=\u001b[0m \u001b[0mc\u001b[0m\u001b[0;34m.\u001b[0m\u001b[0mget\u001b[0m\u001b[0;34m(\u001b[0m\u001b[0mAPI_POI_NEARBY\u001b[0m\u001b[0;34m,\u001b[0m \u001b[0mlat\u001b[0m\u001b[0;34m=\u001b[0m\u001b[0;36m24.503625\u001b[0m\u001b[0;34m,\u001b[0m \u001b[0mlong\u001b[0m\u001b[0;34m=\u001b[0m\u001b[0;36m118.121906\u001b[0m\u001b[0;34m)\u001b[0m\u001b[0;34m\u001b[0m\u001b[0;34m\u001b[0m\u001b[0m\n\u001b[0m\u001b[1;32m      2\u001b[0m \u001b[0mpoi_nb\u001b[0m\u001b[0;34m\u001b[0m\u001b[0;34m\u001b[0m\u001b[0m\n",
      "\u001b[0;32m<ipython-input-99-6fa869aaa034>\u001b[0m in \u001b[0;36mget\u001b[0;34m(self, uri, **kwargs)\u001b[0m\n\u001b[1;32m     95\u001b[0m         \u001b[0mt_str\u001b[0m \u001b[0;34m=\u001b[0m \u001b[0mself\u001b[0m\u001b[0;34m.\u001b[0m\u001b[0msession\u001b[0m\u001b[0;34m.\u001b[0m\u001b[0mget\u001b[0m\u001b[0;34m(\u001b[0m\u001b[0murl\u001b[0m\u001b[0;34m,\u001b[0m \u001b[0mparams\u001b[0m\u001b[0;34m=\u001b[0m\u001b[0mkwargs\u001b[0m\u001b[0;34m)\u001b[0m\u001b[0;34m.\u001b[0m\u001b[0mtext\u001b[0m\u001b[0;34m\u001b[0m\u001b[0;34m\u001b[0m\u001b[0m\n\u001b[1;32m     96\u001b[0m         \u001b[0mprint\u001b[0m\u001b[0;34m(\u001b[0m\u001b[0mt_str\u001b[0m\u001b[0;34m)\u001b[0m\u001b[0;34m\u001b[0m\u001b[0;34m\u001b[0m\u001b[0m\n\u001b[0;32m---> 97\u001b[0;31m         \u001b[0mres\u001b[0m \u001b[0;34m=\u001b[0m \u001b[0mjson\u001b[0m\u001b[0;34m.\u001b[0m\u001b[0mloads\u001b[0m\u001b[0;34m(\u001b[0m\u001b[0mt_str\u001b[0m\u001b[0;34m)\u001b[0m\u001b[0;34m\u001b[0m\u001b[0;34m\u001b[0m\u001b[0m\n\u001b[0m\u001b[1;32m     98\u001b[0m         \u001b[0mself\u001b[0m\u001b[0;34m.\u001b[0m\u001b[0m_assert_error\u001b[0m\u001b[0;34m(\u001b[0m\u001b[0mres\u001b[0m\u001b[0;34m)\u001b[0m\u001b[0;34m\u001b[0m\u001b[0;34m\u001b[0m\u001b[0m\n\u001b[1;32m     99\u001b[0m         \u001b[0;32mreturn\u001b[0m \u001b[0mres\u001b[0m\u001b[0;34m\u001b[0m\u001b[0;34m\u001b[0m\u001b[0m\n",
      "\u001b[0;32m~/opt/anaconda3/lib/python3.7/json/__init__.py\u001b[0m in \u001b[0;36mloads\u001b[0;34m(s, encoding, cls, object_hook, parse_float, parse_int, parse_constant, object_pairs_hook, **kw)\u001b[0m\n\u001b[1;32m    346\u001b[0m             \u001b[0mparse_int\u001b[0m \u001b[0;32mis\u001b[0m \u001b[0;32mNone\u001b[0m \u001b[0;32mand\u001b[0m \u001b[0mparse_float\u001b[0m \u001b[0;32mis\u001b[0m \u001b[0;32mNone\u001b[0m \u001b[0;32mand\u001b[0m\u001b[0;34m\u001b[0m\u001b[0;34m\u001b[0m\u001b[0m\n\u001b[1;32m    347\u001b[0m             parse_constant is None and object_pairs_hook is None and not kw):\n\u001b[0;32m--> 348\u001b[0;31m         \u001b[0;32mreturn\u001b[0m \u001b[0m_default_decoder\u001b[0m\u001b[0;34m.\u001b[0m\u001b[0mdecode\u001b[0m\u001b[0;34m(\u001b[0m\u001b[0ms\u001b[0m\u001b[0;34m)\u001b[0m\u001b[0;34m\u001b[0m\u001b[0;34m\u001b[0m\u001b[0m\n\u001b[0m\u001b[1;32m    349\u001b[0m     \u001b[0;32mif\u001b[0m \u001b[0mcls\u001b[0m \u001b[0;32mis\u001b[0m \u001b[0;32mNone\u001b[0m\u001b[0;34m:\u001b[0m\u001b[0;34m\u001b[0m\u001b[0;34m\u001b[0m\u001b[0m\n\u001b[1;32m    350\u001b[0m         \u001b[0mcls\u001b[0m \u001b[0;34m=\u001b[0m \u001b[0mJSONDecoder\u001b[0m\u001b[0;34m\u001b[0m\u001b[0;34m\u001b[0m\u001b[0m\n",
      "\u001b[0;32m~/opt/anaconda3/lib/python3.7/json/decoder.py\u001b[0m in \u001b[0;36mdecode\u001b[0;34m(self, s, _w)\u001b[0m\n\u001b[1;32m    335\u001b[0m \u001b[0;34m\u001b[0m\u001b[0m\n\u001b[1;32m    336\u001b[0m         \"\"\"\n\u001b[0;32m--> 337\u001b[0;31m         \u001b[0mobj\u001b[0m\u001b[0;34m,\u001b[0m \u001b[0mend\u001b[0m \u001b[0;34m=\u001b[0m \u001b[0mself\u001b[0m\u001b[0;34m.\u001b[0m\u001b[0mraw_decode\u001b[0m\u001b[0;34m(\u001b[0m\u001b[0ms\u001b[0m\u001b[0;34m,\u001b[0m \u001b[0midx\u001b[0m\u001b[0;34m=\u001b[0m\u001b[0m_w\u001b[0m\u001b[0;34m(\u001b[0m\u001b[0ms\u001b[0m\u001b[0;34m,\u001b[0m \u001b[0;36m0\u001b[0m\u001b[0;34m)\u001b[0m\u001b[0;34m.\u001b[0m\u001b[0mend\u001b[0m\u001b[0;34m(\u001b[0m\u001b[0;34m)\u001b[0m\u001b[0;34m)\u001b[0m\u001b[0;34m\u001b[0m\u001b[0;34m\u001b[0m\u001b[0m\n\u001b[0m\u001b[1;32m    338\u001b[0m         \u001b[0mend\u001b[0m \u001b[0;34m=\u001b[0m \u001b[0m_w\u001b[0m\u001b[0;34m(\u001b[0m\u001b[0ms\u001b[0m\u001b[0;34m,\u001b[0m \u001b[0mend\u001b[0m\u001b[0;34m)\u001b[0m\u001b[0;34m.\u001b[0m\u001b[0mend\u001b[0m\u001b[0;34m(\u001b[0m\u001b[0;34m)\u001b[0m\u001b[0;34m\u001b[0m\u001b[0;34m\u001b[0m\u001b[0m\n\u001b[1;32m    339\u001b[0m         \u001b[0;32mif\u001b[0m \u001b[0mend\u001b[0m \u001b[0;34m!=\u001b[0m \u001b[0mlen\u001b[0m\u001b[0;34m(\u001b[0m\u001b[0ms\u001b[0m\u001b[0;34m)\u001b[0m\u001b[0;34m:\u001b[0m\u001b[0;34m\u001b[0m\u001b[0;34m\u001b[0m\u001b[0m\n",
      "\u001b[0;32m~/opt/anaconda3/lib/python3.7/json/decoder.py\u001b[0m in \u001b[0;36mraw_decode\u001b[0;34m(self, s, idx)\u001b[0m\n\u001b[1;32m    353\u001b[0m             \u001b[0mobj\u001b[0m\u001b[0;34m,\u001b[0m \u001b[0mend\u001b[0m \u001b[0;34m=\u001b[0m \u001b[0mself\u001b[0m\u001b[0;34m.\u001b[0m\u001b[0mscan_once\u001b[0m\u001b[0;34m(\u001b[0m\u001b[0ms\u001b[0m\u001b[0;34m,\u001b[0m \u001b[0midx\u001b[0m\u001b[0;34m)\u001b[0m\u001b[0;34m\u001b[0m\u001b[0;34m\u001b[0m\u001b[0m\n\u001b[1;32m    354\u001b[0m         \u001b[0;32mexcept\u001b[0m \u001b[0mStopIteration\u001b[0m \u001b[0;32mas\u001b[0m \u001b[0merr\u001b[0m\u001b[0;34m:\u001b[0m\u001b[0;34m\u001b[0m\u001b[0;34m\u001b[0m\u001b[0m\n\u001b[0;32m--> 355\u001b[0;31m             \u001b[0;32mraise\u001b[0m \u001b[0mJSONDecodeError\u001b[0m\u001b[0;34m(\u001b[0m\u001b[0;34m\"Expecting value\"\u001b[0m\u001b[0;34m,\u001b[0m \u001b[0ms\u001b[0m\u001b[0;34m,\u001b[0m \u001b[0merr\u001b[0m\u001b[0;34m.\u001b[0m\u001b[0mvalue\u001b[0m\u001b[0;34m)\u001b[0m \u001b[0;32mfrom\u001b[0m \u001b[0;32mNone\u001b[0m\u001b[0;34m\u001b[0m\u001b[0;34m\u001b[0m\u001b[0m\n\u001b[0m\u001b[1;32m    356\u001b[0m         \u001b[0;32mreturn\u001b[0m \u001b[0mobj\u001b[0m\u001b[0;34m,\u001b[0m \u001b[0mend\u001b[0m\u001b[0;34m\u001b[0m\u001b[0;34m\u001b[0m\u001b[0m\n",
      "\u001b[0;31mJSONDecodeError\u001b[0m: Expecting value: line 1 column 1 (char 0)"
     ]
    }
   ],
   "source": [
    "poi_nb = c.get(API_POI_NEARBY, lat=24.503625, long=118.121906)\n",
    "poi_nb"
   ]
  },
  {
   "cell_type": "code",
   "execution_count": null,
   "metadata": {},
   "outputs": [],
   "source": [
    "poi_result = c.get(API_POI_TIMELINE, poiid=, since_id=0, max_id=0, count=20, page=1, base_app=0 )"
   ]
  },
  {
   "cell_type": "code",
   "execution_count": null,
   "metadata": {},
   "outputs": [],
   "source": []
  },
  {
   "cell_type": "code",
   "execution_count": 99,
   "metadata": {},
   "outputs": [],
   "source": [
    "try:\n",
    "    from urllib.parse import urlencode\n",
    "except ImportError:\n",
    "    from urllib import urlencode\n",
    "\n",
    "import json\n",
    "import time\n",
    "\n",
    "import requests\n",
    "\n",
    "\n",
    "class Client(object):\n",
    "    def __init__(self, api_key, api_secret, redirect_uri, token=None,\n",
    "                 username=None, password=None):\n",
    "        # const define\n",
    "        self.site = 'https://api.weibo.com/'\n",
    "        self.authorization_url = self.site + 'oauth2/authorize'\n",
    "        self.token_url = self.site + 'oauth2/access_token'\n",
    "        self.api_url = self.site + '2/'\n",
    "\n",
    "        # init basic info\n",
    "        self.client_id = api_key\n",
    "        self.client_secret = api_secret\n",
    "        self.redirect_uri = redirect_uri\n",
    "\n",
    "        self.session = requests.session()\n",
    "        if username and password:\n",
    "            self.session.auth = username, password\n",
    "\n",
    "        # activate client directly if given token\n",
    "        if token:\n",
    "            self.set_token(token)\n",
    "\n",
    "    @property\n",
    "    def authorize_url(self):\n",
    "        params = {\n",
    "            'client_id': self.client_id,\n",
    "            'redirect_uri': self.redirect_uri\n",
    "        }\n",
    "        return \"{0}?{1}\".format(self.authorization_url, urlencode(params))\n",
    "\n",
    "    @property\n",
    "    def alive(self):\n",
    "        if self.expires_at:\n",
    "            return self.expires_at > time.time()\n",
    "        else:\n",
    "            return False\n",
    "\n",
    "    def set_code(self, authorization_code):\n",
    "        \"\"\"Activate client by authorization_code.\n",
    "        \"\"\"\n",
    "        params = {\n",
    "            'client_id': self.client_id,\n",
    "            'client_secret': self.client_secret,\n",
    "            'grant_type': 'authorization_code',\n",
    "            'code': authorization_code,\n",
    "            'redirect_uri': self.redirect_uri\n",
    "        }\n",
    "        res = requests.post(self.token_url, data=params)\n",
    "        token = json.loads(res.text)\n",
    "        self._assert_error(token)\n",
    "\n",
    "        token[u'expires_at'] = int(time.time()) + int(token.pop(u'expires_in'))\n",
    "        self.set_token(token)\n",
    "\n",
    "    def set_token(self, token):\n",
    "        \"\"\"Directly activate client by access_token.\n",
    "        \"\"\"\n",
    "        self.token = token\n",
    "\n",
    "        self.uid = token['uid']\n",
    "        self.access_token = token['access_token']\n",
    "        self.expires_at = token['expires_at']\n",
    "\n",
    "        self.session.params = {'access_token': self.access_token}\n",
    "\n",
    "    def _assert_error(self, d):\n",
    "        \"\"\"Assert if json response is error.\n",
    "        \"\"\"\n",
    "        if 'error_code' in d and 'error' in d:\n",
    "            raise RuntimeError(\"{0} {1}\".format(\n",
    "                d.get(\"error_code\", \"\"), d.get(\"error\", \"\")))\n",
    "\n",
    "    def get(self, uri, **kwargs):\n",
    "        \"\"\"Request resource by get method.\n",
    "        \"\"\"\n",
    "        url = \"{0}{1}.json\".format(self.api_url, uri)\n",
    "\n",
    "        # for username/password client auth\n",
    "        if self.session.auth:\n",
    "            kwargs['source'] = self.client_id\n",
    "\n",
    "        \n",
    "        print(url)\n",
    "        t_str = self.session.get(url, params=kwargs).text\n",
    "        print(t_str)\n",
    "        res = json.loads(t_str)\n",
    "        self._assert_error(res)\n",
    "        return res\n",
    "\n",
    "    def post(self, uri, **kwargs):\n",
    "        \"\"\"Request resource by post method.\n",
    "        \"\"\"\n",
    "        url = \"{0}{1}.json\".format(self.api_url, uri)\n",
    "\n",
    "        # for username/password client auth\n",
    "        if self.session.auth:\n",
    "            kwargs['source'] = self.client_id\n",
    "\n",
    "        if \"pic\" not in kwargs:\n",
    "            res = json.loads(self.session.post(url, data=kwargs).text)\n",
    "        else:\n",
    "            files = {\"pic\": kwargs.pop(\"pic\")}\n",
    "            res = json.loads(self.session.post(url,\n",
    "                                               data=kwargs,\n",
    "                                               files=files).text)\n",
    "        self._assert_error(res)\n",
    "        return res"
   ]
  },
  {
   "cell_type": "code",
   "execution_count": null,
   "metadata": {},
   "outputs": [],
   "source": []
  }
 ],
 "metadata": {
  "kernelspec": {
   "display_name": "Python 3",
   "language": "python",
   "name": "python3"
  },
  "language_info": {
   "codemirror_mode": {
    "name": "ipython",
    "version": 3
   },
   "file_extension": ".py",
   "mimetype": "text/x-python",
   "name": "python",
   "nbconvert_exporter": "python",
   "pygments_lexer": "ipython3",
   "version": "3.7.6"
  }
 },
 "nbformat": 4,
 "nbformat_minor": 4
}
